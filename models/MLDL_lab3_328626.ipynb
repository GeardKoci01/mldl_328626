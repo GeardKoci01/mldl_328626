{
  "nbformat": 4,
  "nbformat_minor": 0,
  "metadata": {
    "colab": {
      "provenance": [],
      "gpuType": "T4"
    },
    "kernelspec": {
      "name": "python3",
      "display_name": "Python 3"
    },
    "language_info": {
      "name": "python"
    },
    "accelerator": "GPU"
  },
  "cells": [
    {
      "cell_type": "markdown",
      "source": [
        "# LAB 3: How to setup a project from Scratch"
      ],
      "metadata": {
        "id": "-E9qeg-6y1Hu"
      }
    },
    {
      "cell_type": "markdown",
      "source": [
        "# Step 1: Clone your project from Github"
      ],
      "metadata": {
        "id": "y6kJGhxzyN6d"
      }
    },
    {
      "cell_type": "code",
      "source": [
        "# !git clone https://github.com/lambdavi/mldl_project_skeleton.git\n",
        "!git clone https://github.com/<user>/<repo_name>.git"
      ],
      "metadata": {
        "id": "6Wfm084txMr0"
      },
      "execution_count": null,
      "outputs": []
    },
    {
      "cell_type": "code",
      "source": [
        "!ls"
      ],
      "metadata": {
        "id": "MN0lMneJxVz0"
      },
      "execution_count": null,
      "outputs": []
    },
    {
      "cell_type": "code",
      "source": [
        "# %cd mldl_project_skeleton\n",
        "%cd <repo_name>"
      ],
      "metadata": {
        "id": "3Pa5nOPxxbDf"
      },
      "execution_count": null,
      "outputs": []
    },
    {
      "cell_type": "markdown",
      "source": [
        "# Step 2: Packages Installation\n"
      ],
      "metadata": {
        "id": "be_4yDyp1Hru"
      }
    },
    {
      "cell_type": "code",
      "source": [
        "!pip install -r requirements.txt"
      ],
      "metadata": {
        "id": "EO9DuAYk1LFR"
      },
      "execution_count": null,
      "outputs": []
    },
    {
      "cell_type": "markdown",
      "source": [
        "# Step 3: Dataset Setup\n",
        "## Different options\n",
        "- First one is downloading using a script that places the data in the download folder (usually recommended)\n",
        "- Second one is uploading the dataset to your personal/institutional Google Drive and load it from there ([Read More](https://saturncloud.io/blog/google-colab-how-to-read-data-from-my-google-drive/))\n",
        "- Place the download script directly here on colab\n",
        "\n",
        "You are free to do as you please in this phase.\n"
      ],
      "metadata": {
        "id": "bifSi62Ixrqr"
      }
    },
    {
      "cell_type": "code",
      "source": [
        "# !python utils/download_dataset.py"
      ],
      "metadata": {
        "id": "DiWQTaTbxeIc"
      },
      "execution_count": null,
      "outputs": []
    },
    {
      "cell_type": "markdown",
      "source": [
        "# Step 4: Train your model and visualize training"
      ],
      "metadata": {
        "id": "sqo9Eh79yihI"
      }
    },
    {
      "cell_type": "code",
      "source": [
        "%env WANDB_API_KEY=<b48140088aa3f5747552d3bdb259f2785483feea>"
      ],
      "metadata": {
        "id": "4-dxDQOFcdgX"
      },
      "execution_count": null,
      "outputs": []
    },
    {
      "cell_type": "code",
      "source": [
        "!python train.py"
      ],
      "metadata": {
        "id": "8q9OvEDHxmRv",
        "collapsed": true
      },
      "execution_count": null,
      "outputs": []
    },
    {
      "cell_type": "markdown",
      "source": [
        "# Step 5: Evaluate your model"
      ],
      "metadata": {
        "id": "DyQo3klIymlz"
      }
    },
    {
      "cell_type": "code",
      "source": [
        "!python eval.py"
      ],
      "metadata": {
        "id": "9goKvp4jxk4j"
      },
      "execution_count": null,
      "outputs": []
    }
  ]
}